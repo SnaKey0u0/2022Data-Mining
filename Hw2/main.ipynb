{
 "cells": [
  {
   "cell_type": "code",
   "execution_count": null,
   "metadata": {},
   "outputs": [],
   "source": [
    "import csv\n",
    "from sklearn import tree\n",
    "from matplotlib import pyplot as plt\n",
    "from sklearn.neighbors import KNeighborsClassifier\n",
    "from sklearn.pipeline import make_pipeline\n",
    "from sklearn.preprocessing import StandardScaler\n",
    "from sklearn.svm import SVC\n",
    "from sklearn.naive_bayes import GaussianNB\n",
    "from sklearn.metrics import confusion_matrix\n",
    "import seaborn as snNew\n",
    "\n",
    "from sklearn.decomposition import PCA\n",
    "import numpy as np\n",
    "import matplotlib.cm as cm"
   ]
  },
  {
   "cell_type": "code",
   "execution_count": null,
   "metadata": {},
   "outputs": [],
   "source": [
    "train_file_name = \"inputs/E_2-2.csv\" # mydata\n",
    "test_file_name = \"inputs/ET_2-2.csv\" # mydata_test"
   ]
  },
  {
   "cell_type": "code",
   "execution_count": null,
   "metadata": {},
   "outputs": [],
   "source": [
    "header = None\n",
    "x_train = list()\n",
    "y_train = list()\n",
    "with open(train_file_name,'r', encoding='utf-8') as f:\n",
    "    rows = csv.reader(f)\n",
    "    # 以迴圈輸出每一列\n",
    "    for row in rows:\n",
    "        if header == None:\n",
    "            header = row\n",
    "            continue\n",
    "        for i in range(10):\n",
    "            row[i] = float(row[i])\n",
    "        for i in range(10,13):\n",
    "            row[i] = bool(row[i])\n",
    "        for i in range(13,17):\n",
    "            row[i] = int(row[i])\n",
    "        x_train.append(row[:-1])\n",
    "        y_train.append(row[-1])\n",
    "x_train = np.array(x_train)\n",
    "y_train = np.array(y_train)"
   ]
  },
  {
   "cell_type": "code",
   "execution_count": null,
   "metadata": {},
   "outputs": [],
   "source": [
    "header = None\n",
    "x_test = list()\n",
    "y_test = list()\n",
    "with open(test_file_name,'r', encoding='utf-8') as f:\n",
    "    rows = csv.reader(f)\n",
    "    # 以迴圈輸出每一列\n",
    "    for row in rows:\n",
    "        if header == None:\n",
    "            header = row\n",
    "            continue\n",
    "        for i in range(10):\n",
    "            row[i] = float(row[i])\n",
    "        for i in range(10,13):\n",
    "            row[i] = bool(row[i])\n",
    "        for i in range(13,17):\n",
    "            row[i] = int(row[i])\n",
    "        x_test.append(row[:-1])\n",
    "        y_test.append(row[-1])\n",
    "x_test = np.array(x_test)\n",
    "y_test = np.array(y_test)"
   ]
  },
  {
   "cell_type": "code",
   "execution_count": null,
   "metadata": {},
   "outputs": [],
   "source": [
    "clf_tree = tree.DecisionTreeClassifier(random_state=1234)\n",
    "model_tree = clf_tree.fit(x_train, y_train)\n",
    "plt.figure(figsize=(10,10))\n",
    "tree.plot_tree(model_tree,feature_names=header,class_names=True)\n",
    "plt.show()\n",
    "y_predict = clf_tree.predict(x_test)\n",
    "m = confusion_matrix(y_test, y_predict)\n",
    "snNew.heatmap(m, annot=True)\n",
    "plt.xlabel(\"predict\") # x label\n",
    "plt.ylabel(\"ground truth\") # y label\n",
    "plt.show()"
   ]
  },
  {
   "cell_type": "code",
   "execution_count": null,
   "metadata": {},
   "outputs": [],
   "source": [
    "str = [\"Bad\", \"Good\"]\n",
    "colors = cm.rainbow(np.linspace(0, 1, 2))\n",
    "pca = PCA(n_components=2)\n",
    "X_pca = pca.fit(x_train).transform(x_train)\n",
    "print(\"X_pca.shape:\", X_pca.shape)\n",
    "for color, i in zip(colors, [0, 1]):\n",
    "    plt.scatter(X_pca[y_train == i, 0], X_pca[y_train == i, 1], color=color, label=str[i])\n",
    "plt.legend()\n",
    "plt.show()"
   ]
  },
  {
   "cell_type": "code",
   "execution_count": null,
   "metadata": {},
   "outputs": [],
   "source": [
    "clf_svm = make_pipeline(StandardScaler(), SVC(gamma='auto'))\n",
    "clf_svm.fit(x_train, y_train)\n",
    "y_predict = clf_svm.predict(x_test)\n",
    "m = confusion_matrix(y_test, y_predict)\n",
    "snNew.heatmap(m, annot=True)\n",
    "plt.xlabel(\"predict\") # x label\n",
    "plt.ylabel(\"ground truth\") # y label\n",
    "plt.show()"
   ]
  },
  {
   "cell_type": "code",
   "execution_count": null,
   "metadata": {},
   "outputs": [],
   "source": [
    "neigh = KNeighborsClassifier(n_neighbors=2)\n",
    "neigh.fit(x_train, y_train)\n",
    "y_predict = neigh.predict(x_test)\n",
    "m = confusion_matrix(y_test, y_predict)\n",
    "snNew.heatmap(m, annot=True)\n",
    "plt.xlabel(\"predict\") # x label\n",
    "plt.ylabel(\"ground truth\") # y label\n",
    "plt.show()"
   ]
  },
  {
   "cell_type": "code",
   "execution_count": null,
   "metadata": {},
   "outputs": [],
   "source": [
    "gnb = GaussianNB()\n",
    "gnb.fit(x_train, y_train)\n",
    "y_predict = gnb.predict(x_test)\n",
    "m = confusion_matrix(y_test, y_predict)\n",
    "snNew.heatmap(m, annot=True)\n",
    "plt.xlabel(\"predict\") # x label\n",
    "plt.ylabel(\"ground truth\") # y label\n",
    "plt.show()"
   ]
  },
  {
   "cell_type": "code",
   "execution_count": null,
   "metadata": {},
   "outputs": [],
   "source": [
    "fig, axs = plt.subplots(2, 2,figsize=(15, 15))\n",
    "\n",
    "# axs[0, 0].imshow(x_train[0])\n",
    "import matplotlib.image as mpimg\n",
    "\n",
    "ex_idx = 2\n",
    "imgs = list()\n",
    "pngs = [\"_tree_C.png\", \"_SVM_C.png\", \"_KNN_C.png\", \"_Bayes_C.png\"]\n",
    "for i in pngs:\n",
    "    imgs.append(mpimg.imread(f'imgs/E{ex_idx}-2{i}'))\n",
    "\n",
    "print(len(imgs))\n",
    "for i in range(2):\n",
    "    for j in range(2):\n",
    "        axs[i, j].imshow(imgs[i*2+j])\n",
    "        axs[i, j].title.set_text(pngs[i*2+j][1:-4])\n",
    "        axs[i, j].axis('off')\n",
    "plt.show()"
   ]
  }
 ],
 "metadata": {
  "kernelspec": {
   "display_name": "Python 3.7.13 ('cvdl')",
   "language": "python",
   "name": "python3"
  },
  "language_info": {
   "codemirror_mode": {
    "name": "ipython",
    "version": 3
   },
   "file_extension": ".py",
   "mimetype": "text/x-python",
   "name": "python",
   "nbconvert_exporter": "python",
   "pygments_lexer": "ipython3",
   "version": "3.7.13"
  },
  "orig_nbformat": 4,
  "vscode": {
   "interpreter": {
    "hash": "0bb577a8bab2a1b7787b4c7f293fdd4773944383e237bb8406919b02b25fd48c"
   }
  }
 },
 "nbformat": 4,
 "nbformat_minor": 2
}
